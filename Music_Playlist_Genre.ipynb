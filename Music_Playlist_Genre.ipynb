{
 "cells": [
  {
   "cell_type": "code",
   "execution_count": 1,
   "id": "864113e7-d502-44dc-a185-7a988f177beb",
   "metadata": {},
   "outputs": [],
   "source": [
    "import spotipy\n",
    "from spotipy.oauth2 import SpotifyClientCredentials\n",
    "import pandas as pd\n",
    "import seaborn as sns\n",
    "import matplotlib.pyplot as plt\n",
    "from dotenv import load_dotenv\n",
    "import os\n",
    "import pandas as pd\n",
    "import requests"
   ]
  },
  {
   "cell_type": "code",
   "execution_count": 2,
   "id": "74e7758d-3f40-4334-bb6d-64a60563ba96",
   "metadata": {},
   "outputs": [],
   "source": [
    "#Spotify API credentials from .env\n",
    "load_dotenv()\n",
    "client_id = os.getenv('CLIENT_ID')\n",
    "client_secret = os.getenv('CLIENT_SECRET')\n",
    "lastfm_api_key = os.getenv('LASTFM_API_KEY')"
   ]
  },
  {
   "cell_type": "code",
   "execution_count": 3,
   "id": "2810639c-7451-4f2a-856a-35f13088e6f4",
   "metadata": {},
   "outputs": [],
   "source": [
    "#spotipy with the credentials\n",
    "auth_manager = SpotifyClientCredentials(client_id=client_id, client_secret=client_secret)\n",
    "sp = spotipy.Spotify(auth_manager=auth_manager)"
   ]
  },
  {
   "cell_type": "code",
   "execution_count": 4,
   "id": "46efcbdd-c0a8-4de7-85d2-72546ea2079a",
   "metadata": {},
   "outputs": [],
   "source": [
    "#ID of the playlist I want to extract songs from\n",
    "#Link to playlist https://open.spotify.com/playlist/37i9dQZF1DX0BcQWzuB7ZO?si=3ad5fc7c76cb4223\n",
    "playlist_id = '37i9dQZF1DX0BcQWzuB7ZO'"
   ]
  },
  {
   "cell_type": "code",
   "execution_count": 5,
   "id": "62e45a86-f87d-4e1a-80b7-cdd5429347da",
   "metadata": {},
   "outputs": [],
   "source": [
    "#extract the top songs from a playlist\n",
    "def get_top_songs_from_playlist(playlist_id):\n",
    "    #playlist tracks\n",
    "    results = sp.playlist_tracks(playlist_id)\n",
    "    #dictionary to store track names and popularity\n",
    "    top_songs = {}\n",
    "    \n",
    "    #extract track popularity\n",
    "    for item in results['items']:\n",
    "        track = item['track']\n",
    "        track_name = track['name']\n",
    "        popularity = track['popularity']\n",
    "        \n",
    "        top_songs[track_name] = popularity\n",
    "    \n",
    "    #sort songs by popularity\n",
    "    sorted_songs = sorted(top_songs.items(), key=lambda x: x[1], reverse=True)\n",
    "    return sorted_songs"
   ]
  },
  {
   "cell_type": "code",
   "execution_count": 6,
   "id": "e1aa6066-62e7-409e-81d6-2fb10f09777a",
   "metadata": {},
   "outputs": [],
   "source": [
    "#get the top songs from playlist\n",
    "top_songs = get_top_songs_from_playlist(playlist_id)"
   ]
  },
  {
   "cell_type": "code",
   "execution_count": 7,
   "id": "9185f5df-062b-4da1-b08f-58f91ca50159",
   "metadata": {},
   "outputs": [
    {
     "name": "stdout",
     "output_type": "stream",
     "text": [
      "1. (It Goes Like) Nanana - Edit - Popularity: 94\n",
      "2. I'm Good (Blue) - Popularity: 93\n",
      "3. Baby Don't Hurt Me - Popularity: 92\n",
      "4. Miracle (with Ellie Goulding) - Popularity: 90\n",
      "5. Rush - Popularity: 90\n",
      "6. Desire (with Sam Smith) - Popularity: 87\n",
      "7. Lay Low - Popularity: 86\n",
      "8. Push Up - Main Edit - Popularity: 86\n",
      "9. Substitution (feat. Julian Perretta) - Popularity: 85\n",
      "10. Give It To Me - Full Vocal Mix - Popularity: 85\n",
      "11. Rock My Body - Popularity: 84\n",
      "12. Giving Me - Popularity: 84\n",
      "13. Padam Padam - Popularity: 83\n",
      "14. Whistle (feat. Calum Scott) - Popularity: 83\n",
      "15. Deep Down (feat. Never Dull) - Popularity: 83\n",
      "16. REACT - Popularity: 82\n",
      "17. Crying On The Dancefloor - Popularity: 82\n",
      "18. The Feeling - Popularity: 82\n",
      "19. Relax My Eyes - Popularity: 82\n",
      "20. One in a Million - Popularity: 81\n",
      "21. B.O.T.A. (Baddest Of Them All) - Edit - Popularity: 81\n",
      "22. Good Love - Popularity: 81\n",
      "23. Move Your Body - Popularity: 80\n",
      "24. Ascend - Popularity: 79\n",
      "25. Weekends - Popularity: 79\n",
      "26. Eat Your Man (with Nelly Furtado) - Popularity: 78\n",
      "27. Where You Are - Popularity: 78\n",
      "28. All By Myself - Popularity: 78\n",
      "29. Drugs From Amsterdam - Popularity: 78\n",
      "30. Tell Me Why - MEDUZA Remix - Popularity: 78\n",
      "31. Fine Day Anthem - Popularity: 77\n",
      "32. Hero - Popularity: 77\n",
      "33. Rainfall (Praise You) - Popularity: 77\n",
      "34. Ghost Town - Popularity: 76\n",
      "35. Be The One - Popularity: 76\n",
      "36. TAKE IT OFF - Popularity: 76\n",
      "37. Marianela (Que Pasa) - Popularity: 76\n",
      "38. Clouds - Popularity: 76\n",
      "39. Ray Of Solar - Popularity: 75\n",
      "40. Beggin' - Popularity: 75\n",
      "41. Emorio - Popularity: 75\n",
      "42. Maria Maria - Popularity: 75\n",
      "43. All Or Nothing - Popularity: 74\n",
      "44. I Was Made For Lovin' You (feat. Nile Rodgers & House Gospel Choir) - Popularity: 74\n",
      "45. Atmosphere - Popularity: 73\n",
      "46. Upside Down (feat. Poppy Baskcomb) - Popularity: 72\n",
      "47. RATATA - Popularity: 72\n",
      "48. Voodoo - Popularity: 72\n",
      "49. Baby again.. - Popularity: 72\n",
      "50. Delilah (pull me out of this) - Popularity: 72\n",
      "51. Escape (feat. Hayla) - Popularity: 72\n",
      "52. Lose Control - Popularity: 71\n",
      "53. On & On - Popularity: 71\n",
      "54. In The Yuma (feat. Aatig) - Popularity: 71\n",
      "55. Mexico - Popularity: 71\n",
      "56. Like Wooh Wooh - Radio Edit - Popularity: 71\n",
      "57. Serotonin Moonbeams - Popularity: 70\n",
      "58. Chill Like That - Popularity: 70\n",
      "59. Push To Start (feat. No/Me) - Popularity: 69\n",
      "60. Make Me - Popularity: 69\n",
      "61. Sorry (with Madonna) - Popularity: 69\n",
      "62. Rhyme Dust - Popularity: 68\n",
      "63. Can’t Fight The Feeling - Popularity: 67\n",
      "64. Children - Radio Edit - Popularity: 67\n",
      "65. Strong - Popularity: 67\n",
      "66. Yahyuppiyah (feat. Pcee, EeQue & Chley) - Popularity: 67\n",
      "67. Sacrifice - Popularity: 66\n",
      "68. A Milli - SIDEPIECE Remix - Popularity: 66\n",
      "69. We Are The People - southstar Remix - Popularity: 65\n",
      "70. Baianá - Popularity: 65\n",
      "71. Bel Mercy - Popularity: 63\n",
      "72. How You Samba - Popularity: 62\n",
      "73. Eternity - Popularity: 61\n",
      "74. The Sign (with CamelPhat) - Popularity: 57\n",
      "75. Not Fair - Popularity: 50\n"
     ]
    }
   ],
   "source": [
    "#top songs & popularity\n",
    "for idx, (song, popularity) in enumerate(top_songs, start=1):\n",
    "    print(f\"{idx}. {song} - Popularity: {popularity}\")"
   ]
  },
  {
   "cell_type": "code",
   "execution_count": 8,
   "id": "75c44ced-7f94-40b3-affa-b3922497aaa9",
   "metadata": {},
   "outputs": [],
   "source": [
    "#get genre information using Last.fm API\n",
    "def get_track_genres(artist_name, track_name):\n",
    "    lastfm_api_url = f'http://ws.audioscrobbler.com/2.0/?method=track.getInfo&api_key={lastfm_api_key}&artist={artist_name}&track={track_name}&format=json'\n",
    "    response = requests.get(lastfm_api_url)\n",
    "    data = response.json()\n",
    "    \n",
    "    if 'track' in data and 'toptags' in data['track']:\n",
    "        tags = data['track']['toptags']['tag']\n",
    "        genres = [tag['name'] for tag in tags]\n",
    "        return genres\n",
    "    else:\n",
    "        return []"
   ]
  },
  {
   "cell_type": "code",
   "execution_count": 9,
   "id": "34aeb77d-26d8-4cbf-98f8-fee3b15ae49f",
   "metadata": {},
   "outputs": [],
   "source": [
    "#extract the top songs from playlist and sort by genre\n",
    "def get_top_songs_sorted_by_genre(playlist_id):\n",
    "    results = sp.playlist_tracks(playlist_id)\n",
    "    \n",
    "    top_songs = []\n",
    "    \n",
    "    for item in results['items']:\n",
    "        track = item['track']\n",
    "        track_name = track['name']\n",
    "        artist_name = track['artists'][0]['name']\n",
    "        popularity = track['popularity']\n",
    "        \n",
    "        genres = get_track_genres(artist_name, track_name)\n",
    "        \n",
    "        top_songs.append({\n",
    "            'track_name': track_name,\n",
    "            'artist_name': artist_name,\n",
    "            'popularity': popularity,\n",
    "            'genres': genres\n",
    "        })\n",
    "    \n",
    "    #sort the songs by popularity \n",
    "    sorted_songs = sorted(top_songs, key=lambda x: x['popularity'], reverse=True)\n",
    "    \n",
    "    return sorted_songs"
   ]
  },
  {
   "cell_type": "code",
   "execution_count": 10,
   "id": "236aed27-d101-486d-876a-fa954bca4df6",
   "metadata": {},
   "outputs": [],
   "source": [
    "#top 20 songs from the playlist sorted by genre\n",
    "top_songs_sorted_by_genre = get_top_songs_sorted_by_genre(playlist_id)[:20]"
   ]
  },
  {
   "cell_type": "code",
   "execution_count": 11,
   "id": "52a67c28-0098-40af-8f2f-6dedfcc3ebce",
   "metadata": {},
   "outputs": [
    {
     "name": "stdout",
     "output_type": "stream",
     "text": [
      "1. (It Goes Like) Nanana - Edit by Peggy Gou - Popularity: 94 - Genres: dance-pop, House, atb, 9PM, MySpotigramBot\n",
      "2. I'm Good (Blue) by David Guetta - Popularity: 93 - Genres: House, electro house, electronic, dance, dance-pop\n",
      "3. Baby Don't Hurt Me by David Guetta - Popularity: 92 - Genres: dance, remix\n",
      "4. Miracle (with Ellie Goulding) by Calvin Harris - Popularity: 90 - Genres: eurodance, trance, dream trance, dance, club\n",
      "5. Rush by Troye Sivan - Popularity: 90 - Genres: House, pop, party, 2023, electropop\n",
      "6. Desire (with Sam Smith) by Calvin Harris - Popularity: 87 - Genres: trance, dance, electro house, eurodance, dance pop\n",
      "7. Lay Low by Tiësto - Popularity: 86 - Genres: metalcore, party, EDM, playlista rmf fm\n",
      "8. Push Up - Main Edit by Creeds - Popularity: 86 - Genres: dance\n",
      "9. Substitution (feat. Julian Perretta) by Purple Disco Machine - Popularity: 85 - Genres: Unknown\n",
      "10. Give It To Me - Full Vocal Mix by Matt Sassari - Popularity: 85 - Genres: Unknown\n",
      "11. Rock My Body by R3HAB - Popularity: 84 - Genres: inna, dance, eurodance, song of the summer, best of 2023\n",
      "12. Giving Me by Jazzy - Popularity: 84 - Genres: House, party, irish, deep house, nocna energia\n",
      "13. Padam Padam by Kylie Minogue - Popularity: 83 - Genres: electropop, 2023, pop, slap house, dance\n",
      "14. Whistle (feat. Calum Scott) by Jax Jones - Popularity: 83 - Genres: Unknown\n",
      "15. Deep Down (feat. Never Dull) by Alok - Popularity: 83 - Genres: House\n",
      "16. REACT by Switch Disco - Popularity: 82 - Genres: House, children\n",
      "17. Crying On The Dancefloor by Sam Feldt - Popularity: 82 - Genres: Unknown\n",
      "18. The Feeling by Lost Frequencies - Popularity: 82 - Genres: party, wake-up song, whistle song, playlista rmf fm\n",
      "19. Relax My Eyes by ANOTR - Popularity: 82 - Genres: electronic, deep house, funky house\n",
      "20. One in a Million by Bebe Rexha - Popularity: 81 - Genres: Unknown\n"
     ]
    }
   ],
   "source": [
    "#top songs and their genres\n",
    "for idx, song_info in enumerate(top_songs_sorted_by_genre, start=1):\n",
    "    genres_str = ', '.join(song_info['genres']) if song_info['genres'] else 'Unknown'\n",
    "    print(f\"{idx}. {song_info['track_name']} by {song_info['artist_name']} - Popularity: {song_info['popularity']} - Genres: {genres_str}\")"
   ]
  },
  {
   "cell_type": "code",
   "execution_count": 12,
   "id": "105e9b1f-b175-49b0-a97a-39a4e83cf835",
   "metadata": {},
   "outputs": [],
   "source": [
    "#count the occurrences of each genre\n",
    "genre_counts = {}\n",
    "for song_info in top_songs_sorted_by_genre:\n",
    "    for genre in song_info['genres']:\n",
    "        if genre in genre_counts:\n",
    "            genre_counts[genre] += 1\n",
    "        else:\n",
    "            genre_counts[genre] = 1"
   ]
  },
  {
   "cell_type": "code",
   "execution_count": 13,
   "id": "5f0855e6-4aea-4f1b-8688-dae1ed201d50",
   "metadata": {},
   "outputs": [],
   "source": [
    "#convert the genre counts dictionary to a DataFrame\n",
    "genre_df = pd.DataFrame.from_dict(genre_counts, orient='index', columns=['Count'])\n",
    "genre_df.index.name = 'Genre'\n",
    "genre_df.reset_index(inplace=True)\n",
    "genre_df.sort_values(by='Count', ascending=False, inplace=True)"
   ]
  },
  {
   "cell_type": "code",
   "execution_count": 14,
   "id": "e310d368-c930-433f-8874-77cf9c7b9efa",
   "metadata": {},
   "outputs": [
    {
     "data": {
      "image/png": "[encoded data removed]",
      "text/plain": [
       "<Figure size 720x720 with 1 Axes>"
      ]
     },
     "metadata": {
      "needs_background": "light"
     },
     "output_type": "display_data"
    }
   ],
   "source": [
    "#create a bar chart\n",
    "plt.figure(figsize=(10, 10))\n",
    "sns.set(style=\"whitegrid\")\n",
    "sns.barplot(x='Count', y='Genre', data=genre_df, palette='viridis')\n",
    "plt.xlabel('Count')\n",
    "plt.ylabel('Genre')\n",
    "plt.title('Genre of Top Songs')\n",
    "plt.tight_layout()\n",
    "plt.show()"
   ]
  },
  {
   "cell_type": "markdown",
   "id": "908b3f0f-19ea-42d3-ae3b-543f24c1bba2",
   "metadata": {
    "jp-MarkdownHeadingCollapsed": true,
    "tags": []
   },
   "source": [
    "#### The playlist name is called Dance Hits so the genres definitely reflect that, however, Last.fm is not great for labeling genres."
   ]
  }
 ],
 "metadata": {
  "kernelspec": {
   "display_name": "Python 3 (ipykernel)",
   "language": "python",
   "name": "python3"
  },
  "language_info": {
   "codemirror_mode": {
    "name": "ipython",
    "version": 3
   },
   "file_extension": ".py",
   "mimetype": "text/x-python",
   "name": "python",
   "nbconvert_exporter": "python",
   "pygments_lexer": "ipython3",
   "version": "3.9.12"
  }
 },
 "nbformat": 4,
 "nbformat_minor": 5
}
